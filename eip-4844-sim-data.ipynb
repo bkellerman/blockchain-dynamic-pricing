{
 "cells": [
  {
   "cell_type": "markdown",
   "metadata": {
    "tags": []
   },
   "source": [
    "# EIP-4844 Fee Market Analysis: Data Analysis"
   ]
  },
  {
   "cell_type": "code",
   "execution_count": 1,
   "metadata": {},
   "outputs": [],
   "source": [
    "import secrets\n",
    "import pandas as pd\n",
    "import numpy as np\n",
    "import seaborn as sns\n",
    "import matplotlib.pyplot as plt\n",
    "\n",
    "from radcad import Model, Simulation, Experiment\n",
    "from radcad.engine import Engine, Backend\n",
    "from random import randint, uniform\n",
    "\n",
    "sns.set(style=\"whitegrid\")"
   ]
  },
  {
   "cell_type": "code",
   "execution_count": 2,
   "metadata": {},
   "outputs": [],
   "source": [
    "demand_input = pd.read_csv('data/data.csv.gz', index_col=False)\n",
    "arb_demand_input = demand_input[demand_input['data_tag'] == 'arb_data']\n",
    "op_demand_input = demand_input[demand_input['data_tag'] == 'op_data']"
   ]
  },
  {
   "cell_type": "code",
   "execution_count": 3,
   "metadata": {},
   "outputs": [],
   "source": [
    "arb_blocks = arb_demand_input[['block_number']].drop_duplicates().sort_values('block_number')\n",
    "op_blocks = op_demand_input[['block_number']].drop_duplicates().sort_values('block_number')"
   ]
  },
  {
   "cell_type": "code",
   "execution_count": 4,
   "metadata": {},
   "outputs": [],
   "source": [
    "arb_blocks['diff'] = arb_blocks['block_number'] - arb_blocks.shift()['block_number'] \n",
    "op_blocks['diff'] = op_blocks['block_number'] - op_blocks.shift()['block_number'] "
   ]
  },
  {
   "cell_type": "code",
   "execution_count": 5,
   "metadata": {},
   "outputs": [
    {
     "data": {
      "text/plain": [
       "Text(0.5, 1.0, 'Blocks between batches')"
      ]
     },
     "execution_count": 5,
     "metadata": {},
     "output_type": "execute_result"
    },
    {
     "data": {
      "image/png": "[encoded data removed]",
      "text/plain": [
       "<Figure size 640x480 with 1 Axes>"
      ]
     },
     "metadata": {},
     "output_type": "display_data"
    }
   ],
   "source": [
    "ax=arb_blocks[['diff']].hist(label='arb', bins=20, alpha=0.7)\n",
    "op_blocks[['diff']].hist(ax=ax, bins=10, label='op', alpha=0.7)\n",
    "plt.legend()\n",
    "plt.title('Blocks between batches')"
   ]
  },
  {
   "cell_type": "code",
   "execution_count": 6,
   "metadata": {},
   "outputs": [],
   "source": [
    "## Etherscan TX Charts"
   ]
  },
  {
   "cell_type": "code",
   "execution_count": 7,
   "metadata": {},
   "outputs": [],
   "source": [
    "op_txs = pd.read_csv('data/op-TxGrowth.csv.gz', index_col=False)\n",
    "arb_txs = pd.read_csv('data/arb-TxGrowth.csv.gz', index_col=False)"
   ]
  },
  {
   "cell_type": "code",
   "execution_count": 8,
   "metadata": {},
   "outputs": [
    {
     "data": {
      "text/html": [
       "<div>\n",
       "<style scoped>\n",
       "    .dataframe tbody tr th:only-of-type {\n",
       "        vertical-align: middle;\n",
       "    }\n",
       "\n",
       "    .dataframe tbody tr th {\n",
       "        vertical-align: top;\n",
       "    }\n",
       "\n",
       "    .dataframe thead th {\n",
       "        text-align: right;\n",
       "    }\n",
       "</style>\n",
       "<table border=\"1\" class=\"dataframe\">\n",
       "  <thead>\n",
       "    <tr style=\"text-align: right;\">\n",
       "      <th></th>\n",
       "      <th>Date(UTC)</th>\n",
       "      <th>UnixTimeStamp</th>\n",
       "      <th>Value</th>\n",
       "    </tr>\n",
       "  </thead>\n",
       "  <tbody>\n",
       "    <tr>\n",
       "      <th>0</th>\n",
       "      <td>1/14/2021</td>\n",
       "      <td>1610582400</td>\n",
       "      <td>440</td>\n",
       "    </tr>\n",
       "    <tr>\n",
       "      <th>1</th>\n",
       "      <td>1/15/2021</td>\n",
       "      <td>1610668800</td>\n",
       "      <td>0</td>\n",
       "    </tr>\n",
       "    <tr>\n",
       "      <th>2</th>\n",
       "      <td>1/16/2021</td>\n",
       "      <td>1610755200</td>\n",
       "      <td>0</td>\n",
       "    </tr>\n",
       "    <tr>\n",
       "      <th>3</th>\n",
       "      <td>1/17/2021</td>\n",
       "      <td>1610841600</td>\n",
       "      <td>0</td>\n",
       "    </tr>\n",
       "    <tr>\n",
       "      <th>4</th>\n",
       "      <td>1/18/2021</td>\n",
       "      <td>1610928000</td>\n",
       "      <td>0</td>\n",
       "    </tr>\n",
       "  </tbody>\n",
       "</table>\n",
       "</div>"
      ],
      "text/plain": [
       "   Date(UTC)  UnixTimeStamp  Value\n",
       "0  1/14/2021     1610582400    440\n",
       "1  1/15/2021     1610668800      0\n",
       "2  1/16/2021     1610755200      0\n",
       "3  1/17/2021     1610841600      0\n",
       "4  1/18/2021     1610928000      0"
      ]
     },
     "execution_count": 8,
     "metadata": {},
     "output_type": "execute_result"
    }
   ],
   "source": [
    "op_txs.head()"
   ]
  },
  {
   "cell_type": "code",
   "execution_count": 9,
   "metadata": {},
   "outputs": [
    {
     "data": {
      "text/html": [
       "<div>\n",
       "<style scoped>\n",
       "    .dataframe tbody tr th:only-of-type {\n",
       "        vertical-align: middle;\n",
       "    }\n",
       "\n",
       "    .dataframe tbody tr th {\n",
       "        vertical-align: top;\n",
       "    }\n",
       "\n",
       "    .dataframe thead th {\n",
       "        text-align: right;\n",
       "    }\n",
       "</style>\n",
       "<table border=\"1\" class=\"dataframe\">\n",
       "  <thead>\n",
       "    <tr style=\"text-align: right;\">\n",
       "      <th></th>\n",
       "      <th>Date(UTC)</th>\n",
       "      <th>UnixTimeStamp</th>\n",
       "      <th>Value</th>\n",
       "    </tr>\n",
       "  </thead>\n",
       "  <tbody>\n",
       "    <tr>\n",
       "      <th>0</th>\n",
       "      <td>5/29/2021</td>\n",
       "      <td>1622246400</td>\n",
       "      <td>48</td>\n",
       "    </tr>\n",
       "    <tr>\n",
       "      <th>1</th>\n",
       "      <td>5/30/2021</td>\n",
       "      <td>1622332800</td>\n",
       "      <td>25</td>\n",
       "    </tr>\n",
       "    <tr>\n",
       "      <th>2</th>\n",
       "      <td>5/31/2021</td>\n",
       "      <td>1622419200</td>\n",
       "      <td>73</td>\n",
       "    </tr>\n",
       "    <tr>\n",
       "      <th>3</th>\n",
       "      <td>6/1/2021</td>\n",
       "      <td>1622505600</td>\n",
       "      <td>44</td>\n",
       "    </tr>\n",
       "    <tr>\n",
       "      <th>4</th>\n",
       "      <td>6/2/2021</td>\n",
       "      <td>1622592000</td>\n",
       "      <td>171</td>\n",
       "    </tr>\n",
       "  </tbody>\n",
       "</table>\n",
       "</div>"
      ],
      "text/plain": [
       "   Date(UTC)  UnixTimeStamp  Value\n",
       "0  5/29/2021     1622246400     48\n",
       "1  5/30/2021     1622332800     25\n",
       "2  5/31/2021     1622419200     73\n",
       "3   6/1/2021     1622505600     44\n",
       "4   6/2/2021     1622592000    171"
      ]
     },
     "execution_count": 9,
     "metadata": {},
     "output_type": "execute_result"
    }
   ],
   "source": [
    "arb_txs.head()"
   ]
  },
  {
   "cell_type": "code",
   "execution_count": 10,
   "metadata": {},
   "outputs": [
    {
     "data": {
      "text/html": [
       "<div>\n",
       "<style scoped>\n",
       "    .dataframe tbody tr th:only-of-type {\n",
       "        vertical-align: middle;\n",
       "    }\n",
       "\n",
       "    .dataframe tbody tr th {\n",
       "        vertical-align: top;\n",
       "    }\n",
       "\n",
       "    .dataframe thead th {\n",
       "        text-align: right;\n",
       "    }\n",
       "</style>\n",
       "<table border=\"1\" class=\"dataframe\">\n",
       "  <thead>\n",
       "    <tr style=\"text-align: right;\">\n",
       "      <th></th>\n",
       "      <th>Date(UTC)_x</th>\n",
       "      <th>UnixTimeStamp</th>\n",
       "      <th>Value_x</th>\n",
       "      <th>Date(UTC)_y</th>\n",
       "      <th>Value_y</th>\n",
       "    </tr>\n",
       "  </thead>\n",
       "  <tbody>\n",
       "    <tr>\n",
       "      <th>0</th>\n",
       "      <td>1/14/2021</td>\n",
       "      <td>1610582400</td>\n",
       "      <td>440</td>\n",
       "      <td>NaN</td>\n",
       "      <td>NaN</td>\n",
       "    </tr>\n",
       "    <tr>\n",
       "      <th>1</th>\n",
       "      <td>1/15/2021</td>\n",
       "      <td>1610668800</td>\n",
       "      <td>0</td>\n",
       "      <td>NaN</td>\n",
       "      <td>NaN</td>\n",
       "    </tr>\n",
       "    <tr>\n",
       "      <th>2</th>\n",
       "      <td>1/16/2021</td>\n",
       "      <td>1610755200</td>\n",
       "      <td>0</td>\n",
       "      <td>NaN</td>\n",
       "      <td>NaN</td>\n",
       "    </tr>\n",
       "    <tr>\n",
       "      <th>3</th>\n",
       "      <td>1/17/2021</td>\n",
       "      <td>1610841600</td>\n",
       "      <td>0</td>\n",
       "      <td>NaN</td>\n",
       "      <td>NaN</td>\n",
       "    </tr>\n",
       "    <tr>\n",
       "      <th>4</th>\n",
       "      <td>1/18/2021</td>\n",
       "      <td>1610928000</td>\n",
       "      <td>0</td>\n",
       "      <td>NaN</td>\n",
       "      <td>NaN</td>\n",
       "    </tr>\n",
       "  </tbody>\n",
       "</table>\n",
       "</div>"
      ],
      "text/plain": [
       "  Date(UTC)_x  UnixTimeStamp  Value_x Date(UTC)_y  Value_y\n",
       "0   1/14/2021     1610582400      440         NaN      NaN\n",
       "1   1/15/2021     1610668800        0         NaN      NaN\n",
       "2   1/16/2021     1610755200        0         NaN      NaN\n",
       "3   1/17/2021     1610841600        0         NaN      NaN\n",
       "4   1/18/2021     1610928000        0         NaN      NaN"
      ]
     },
     "execution_count": 10,
     "metadata": {},
     "output_type": "execute_result"
    }
   ],
   "source": [
    "both_txs = op_txs.merge(arb_txs, how='outer', on='UnixTimeStamp')\n",
    "both_txs.head()"
   ]
  },
  {
   "cell_type": "code",
   "execution_count": 11,
   "metadata": {},
   "outputs": [],
   "source": [
    "both_txs = both_txs.fillna(0)\n",
    "both_txs['total_value'] = both_txs['Value_x'] + both_txs['Value_y']"
   ]
  },
  {
   "cell_type": "code",
   "execution_count": 12,
   "metadata": {},
   "outputs": [
    {
     "data": {
      "text/html": [
       "<div>\n",
       "<style scoped>\n",
       "    .dataframe tbody tr th:only-of-type {\n",
       "        vertical-align: middle;\n",
       "    }\n",
       "\n",
       "    .dataframe tbody tr th {\n",
       "        vertical-align: top;\n",
       "    }\n",
       "\n",
       "    .dataframe thead th {\n",
       "        text-align: right;\n",
       "    }\n",
       "</style>\n",
       "<table border=\"1\" class=\"dataframe\">\n",
       "  <thead>\n",
       "    <tr style=\"text-align: right;\">\n",
       "      <th></th>\n",
       "      <th>Date(UTC)_x</th>\n",
       "      <th>UnixTimeStamp</th>\n",
       "      <th>Value_x</th>\n",
       "      <th>Date(UTC)_y</th>\n",
       "      <th>Value_y</th>\n",
       "      <th>total_value</th>\n",
       "    </tr>\n",
       "  </thead>\n",
       "  <tbody>\n",
       "    <tr>\n",
       "      <th>0</th>\n",
       "      <td>1/14/2021</td>\n",
       "      <td>1610582400</td>\n",
       "      <td>440</td>\n",
       "      <td>0</td>\n",
       "      <td>0.0</td>\n",
       "      <td>440.0</td>\n",
       "    </tr>\n",
       "    <tr>\n",
       "      <th>1</th>\n",
       "      <td>1/15/2021</td>\n",
       "      <td>1610668800</td>\n",
       "      <td>0</td>\n",
       "      <td>0</td>\n",
       "      <td>0.0</td>\n",
       "      <td>0.0</td>\n",
       "    </tr>\n",
       "    <tr>\n",
       "      <th>2</th>\n",
       "      <td>1/16/2021</td>\n",
       "      <td>1610755200</td>\n",
       "      <td>0</td>\n",
       "      <td>0</td>\n",
       "      <td>0.0</td>\n",
       "      <td>0.0</td>\n",
       "    </tr>\n",
       "    <tr>\n",
       "      <th>3</th>\n",
       "      <td>1/17/2021</td>\n",
       "      <td>1610841600</td>\n",
       "      <td>0</td>\n",
       "      <td>0</td>\n",
       "      <td>0.0</td>\n",
       "      <td>0.0</td>\n",
       "    </tr>\n",
       "    <tr>\n",
       "      <th>4</th>\n",
       "      <td>1/18/2021</td>\n",
       "      <td>1610928000</td>\n",
       "      <td>0</td>\n",
       "      <td>0</td>\n",
       "      <td>0.0</td>\n",
       "      <td>0.0</td>\n",
       "    </tr>\n",
       "  </tbody>\n",
       "</table>\n",
       "</div>"
      ],
      "text/plain": [
       "  Date(UTC)_x  UnixTimeStamp  Value_x Date(UTC)_y  Value_y  total_value\n",
       "0   1/14/2021     1610582400      440           0      0.0        440.0\n",
       "1   1/15/2021     1610668800        0           0      0.0          0.0\n",
       "2   1/16/2021     1610755200        0           0      0.0          0.0\n",
       "3   1/17/2021     1610841600        0           0      0.0          0.0\n",
       "4   1/18/2021     1610928000        0           0      0.0          0.0"
      ]
     },
     "execution_count": 12,
     "metadata": {},
     "output_type": "execute_result"
    }
   ],
   "source": [
    "both_txs.head()"
   ]
  },
  {
   "cell_type": "code",
   "execution_count": 13,
   "metadata": {},
   "outputs": [
    {
     "data": {
      "text/html": [
       "<div>\n",
       "<style scoped>\n",
       "    .dataframe tbody tr th:only-of-type {\n",
       "        vertical-align: middle;\n",
       "    }\n",
       "\n",
       "    .dataframe tbody tr th {\n",
       "        vertical-align: top;\n",
       "    }\n",
       "\n",
       "    .dataframe thead th {\n",
       "        text-align: right;\n",
       "    }\n",
       "</style>\n",
       "<table border=\"1\" class=\"dataframe\">\n",
       "  <thead>\n",
       "    <tr style=\"text-align: right;\">\n",
       "      <th></th>\n",
       "      <th>Date(UTC)_x</th>\n",
       "      <th>UnixTimeStamp</th>\n",
       "      <th>Value_x</th>\n",
       "      <th>Date(UTC)_y</th>\n",
       "      <th>Value_y</th>\n",
       "      <th>total_value</th>\n",
       "    </tr>\n",
       "  </thead>\n",
       "  <tbody>\n",
       "    <tr>\n",
       "      <th>798</th>\n",
       "      <td>3/23/2023</td>\n",
       "      <td>1679529600</td>\n",
       "      <td>228684</td>\n",
       "      <td>3/23/2023</td>\n",
       "      <td>2733872.0</td>\n",
       "      <td>2962556.0</td>\n",
       "    </tr>\n",
       "    <tr>\n",
       "      <th>823</th>\n",
       "      <td>4/17/2023</td>\n",
       "      <td>1681689600</td>\n",
       "      <td>387682</td>\n",
       "      <td>4/17/2023</td>\n",
       "      <td>1939877.0</td>\n",
       "      <td>2327559.0</td>\n",
       "    </tr>\n",
       "    <tr>\n",
       "      <th>799</th>\n",
       "      <td>3/24/2023</td>\n",
       "      <td>1679616000</td>\n",
       "      <td>234153</td>\n",
       "      <td>3/24/2023</td>\n",
       "      <td>1821298.0</td>\n",
       "      <td>2055451.0</td>\n",
       "    </tr>\n",
       "    <tr>\n",
       "      <th>825</th>\n",
       "      <td>4/19/2023</td>\n",
       "      <td>1681862400</td>\n",
       "      <td>351500</td>\n",
       "      <td>4/19/2023</td>\n",
       "      <td>1575499.0</td>\n",
       "      <td>1926999.0</td>\n",
       "    </tr>\n",
       "    <tr>\n",
       "      <th>805</th>\n",
       "      <td>3/30/2023</td>\n",
       "      <td>1680134400</td>\n",
       "      <td>287973</td>\n",
       "      <td>3/30/2023</td>\n",
       "      <td>1485928.0</td>\n",
       "      <td>1773901.0</td>\n",
       "    </tr>\n",
       "  </tbody>\n",
       "</table>\n",
       "</div>"
      ],
      "text/plain": [
       "    Date(UTC)_x  UnixTimeStamp  Value_x Date(UTC)_y    Value_y  total_value\n",
       "798   3/23/2023     1679529600   228684   3/23/2023  2733872.0    2962556.0\n",
       "823   4/17/2023     1681689600   387682   4/17/2023  1939877.0    2327559.0\n",
       "799   3/24/2023     1679616000   234153   3/24/2023  1821298.0    2055451.0\n",
       "825   4/19/2023     1681862400   351500   4/19/2023  1575499.0    1926999.0\n",
       "805   3/30/2023     1680134400   287973   3/30/2023  1485928.0    1773901.0"
      ]
     },
     "execution_count": 13,
     "metadata": {},
     "output_type": "execute_result"
    }
   ],
   "source": [
    "both_txs.sort_values('total_value', ascending=False).head()"
   ]
  },
  {
   "cell_type": "code",
   "execution_count": 14,
   "metadata": {},
   "outputs": [],
   "source": [
    "# highest txs from inner join might have more contention\n",
    "both_txs_inner = op_txs.merge(arb_txs, how='inner', on='UnixTimeStamp')"
   ]
  },
  {
   "cell_type": "code",
   "execution_count": 15,
   "metadata": {},
   "outputs": [
    {
     "data": {
      "text/html": [
       "<div>\n",
       "<style scoped>\n",
       "    .dataframe tbody tr th:only-of-type {\n",
       "        vertical-align: middle;\n",
       "    }\n",
       "\n",
       "    .dataframe tbody tr th {\n",
       "        vertical-align: top;\n",
       "    }\n",
       "\n",
       "    .dataframe thead th {\n",
       "        text-align: right;\n",
       "    }\n",
       "</style>\n",
       "<table border=\"1\" class=\"dataframe\">\n",
       "  <thead>\n",
       "    <tr style=\"text-align: right;\">\n",
       "      <th></th>\n",
       "      <th>Date(UTC)_x</th>\n",
       "      <th>UnixTimeStamp</th>\n",
       "      <th>Value_x</th>\n",
       "      <th>Date(UTC)_y</th>\n",
       "      <th>Value_y</th>\n",
       "    </tr>\n",
       "  </thead>\n",
       "  <tbody>\n",
       "    <tr>\n",
       "      <th>0</th>\n",
       "      <td>5/29/2021</td>\n",
       "      <td>1622246400</td>\n",
       "      <td>0</td>\n",
       "      <td>5/29/2021</td>\n",
       "      <td>48</td>\n",
       "    </tr>\n",
       "    <tr>\n",
       "      <th>1</th>\n",
       "      <td>5/30/2021</td>\n",
       "      <td>1622332800</td>\n",
       "      <td>0</td>\n",
       "      <td>5/30/2021</td>\n",
       "      <td>25</td>\n",
       "    </tr>\n",
       "    <tr>\n",
       "      <th>2</th>\n",
       "      <td>5/31/2021</td>\n",
       "      <td>1622419200</td>\n",
       "      <td>0</td>\n",
       "      <td>5/31/2021</td>\n",
       "      <td>73</td>\n",
       "    </tr>\n",
       "    <tr>\n",
       "      <th>3</th>\n",
       "      <td>6/1/2021</td>\n",
       "      <td>1622505600</td>\n",
       "      <td>0</td>\n",
       "      <td>6/1/2021</td>\n",
       "      <td>44</td>\n",
       "    </tr>\n",
       "    <tr>\n",
       "      <th>4</th>\n",
       "      <td>6/2/2021</td>\n",
       "      <td>1622592000</td>\n",
       "      <td>0</td>\n",
       "      <td>6/2/2021</td>\n",
       "      <td>171</td>\n",
       "    </tr>\n",
       "  </tbody>\n",
       "</table>\n",
       "</div>"
      ],
      "text/plain": [
       "  Date(UTC)_x  UnixTimeStamp  Value_x Date(UTC)_y  Value_y\n",
       "0   5/29/2021     1622246400        0   5/29/2021       48\n",
       "1   5/30/2021     1622332800        0   5/30/2021       25\n",
       "2   5/31/2021     1622419200        0   5/31/2021       73\n",
       "3    6/1/2021     1622505600        0    6/1/2021       44\n",
       "4    6/2/2021     1622592000        0    6/2/2021      171"
      ]
     },
     "execution_count": 15,
     "metadata": {},
     "output_type": "execute_result"
    }
   ],
   "source": [
    "both_txs_inner.head()"
   ]
  },
  {
   "cell_type": "code",
   "execution_count": 16,
   "metadata": {},
   "outputs": [
    {
     "data": {
      "text/html": [
       "<div>\n",
       "<style scoped>\n",
       "    .dataframe tbody tr th:only-of-type {\n",
       "        vertical-align: middle;\n",
       "    }\n",
       "\n",
       "    .dataframe tbody tr th {\n",
       "        vertical-align: top;\n",
       "    }\n",
       "\n",
       "    .dataframe thead th {\n",
       "        text-align: right;\n",
       "    }\n",
       "</style>\n",
       "<table border=\"1\" class=\"dataframe\">\n",
       "  <thead>\n",
       "    <tr style=\"text-align: right;\">\n",
       "      <th></th>\n",
       "      <th>Date(UTC)_x</th>\n",
       "      <th>UnixTimeStamp</th>\n",
       "      <th>Value_x</th>\n",
       "      <th>Date(UTC)_y</th>\n",
       "      <th>Value_y</th>\n",
       "      <th>total_value</th>\n",
       "    </tr>\n",
       "  </thead>\n",
       "  <tbody>\n",
       "    <tr>\n",
       "      <th>663</th>\n",
       "      <td>3/23/2023</td>\n",
       "      <td>1679529600</td>\n",
       "      <td>228684</td>\n",
       "      <td>3/23/2023</td>\n",
       "      <td>2733872</td>\n",
       "      <td>2962556</td>\n",
       "    </tr>\n",
       "    <tr>\n",
       "      <th>688</th>\n",
       "      <td>4/17/2023</td>\n",
       "      <td>1681689600</td>\n",
       "      <td>387682</td>\n",
       "      <td>4/17/2023</td>\n",
       "      <td>1939877</td>\n",
       "      <td>2327559</td>\n",
       "    </tr>\n",
       "    <tr>\n",
       "      <th>664</th>\n",
       "      <td>3/24/2023</td>\n",
       "      <td>1679616000</td>\n",
       "      <td>234153</td>\n",
       "      <td>3/24/2023</td>\n",
       "      <td>1821298</td>\n",
       "      <td>2055451</td>\n",
       "    </tr>\n",
       "    <tr>\n",
       "      <th>690</th>\n",
       "      <td>4/19/2023</td>\n",
       "      <td>1681862400</td>\n",
       "      <td>351500</td>\n",
       "      <td>4/19/2023</td>\n",
       "      <td>1575499</td>\n",
       "      <td>1926999</td>\n",
       "    </tr>\n",
       "    <tr>\n",
       "      <th>670</th>\n",
       "      <td>3/30/2023</td>\n",
       "      <td>1680134400</td>\n",
       "      <td>287973</td>\n",
       "      <td>3/30/2023</td>\n",
       "      <td>1485928</td>\n",
       "      <td>1773901</td>\n",
       "    </tr>\n",
       "  </tbody>\n",
       "</table>\n",
       "</div>"
      ],
      "text/plain": [
       "    Date(UTC)_x  UnixTimeStamp  Value_x Date(UTC)_y  Value_y  total_value\n",
       "663   3/23/2023     1679529600   228684   3/23/2023  2733872      2962556\n",
       "688   4/17/2023     1681689600   387682   4/17/2023  1939877      2327559\n",
       "664   3/24/2023     1679616000   234153   3/24/2023  1821298      2055451\n",
       "690   4/19/2023     1681862400   351500   4/19/2023  1575499      1926999\n",
       "670   3/30/2023     1680134400   287973   3/30/2023  1485928      1773901"
      ]
     },
     "execution_count": 16,
     "metadata": {},
     "output_type": "execute_result"
    }
   ],
   "source": [
    "both_txs_inner['total_value'] = both_txs_inner['Value_x'] + both_txs_inner['Value_y']\n",
    "both_txs_inner.sort_values('total_value', ascending=False).head()"
   ]
  },
  {
   "cell_type": "code",
   "execution_count": null,
   "metadata": {},
   "outputs": [],
   "source": []
  }
 ],
 "metadata": {
  "kernelspec": {
   "display_name": "Python 3 (ipykernel)",
   "language": "python",
   "name": "python3"
  },
  "language_info": {
   "codemirror_mode": {
    "name": "ipython",
    "version": 3
   },
   "file_extension": ".py",
   "mimetype": "text/x-python",
   "name": "python",
   "nbconvert_exporter": "python",
   "pygments_lexer": "ipython3",
   "version": "3.9.11"
  }
 },
 "nbformat": 4,
 "nbformat_minor": 4
}
