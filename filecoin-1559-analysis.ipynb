{
 "cells": [
  {
   "cell_type": "markdown",
   "id": "3d97a2c3-46b0-4862-8183-c96b87346c56",
   "metadata": {
    "tags": []
   },
   "source": [
    "# A quick analysis of the EIP-1559-style fee mechanism in Filecoin\n",
    "\n",
    "[Davide Crapis](https://twitter.com/DavideCrapis)\n",
    "\n",
    "**Main Variables**\n",
    "\n",
    "There are 3 types of variables that are relevant for the Filecoin fee market:\n",
    "\n",
    "- set by user: gas_fee_cap,\tgas_premium, gas_limit\n",
    "\n",
    "- set by protocol: parent_base_fee\n",
    "\n",
    "- calculated by protocol: gas_used, gas_refund, gas_burned, base_fee_burn, over_estimation_burn\n",
    "\n",
    "A few relations between these variables are clear from their [implementation](https://github.com/filecoin-project/lotus/blob/v0.10.0/chain/vm/burn.go#L70-L102), the following is particularly useful `gas_limit = gas_used + gas_refund + gas_burned`.\n",
    "\n",
    "**Filecoin Fee Mechanism**\n",
    "\n",
    "[User fees](https://github.com/filecoin-project/lotus/blob/v0.10.0/chain/vm/burn.go#L70-L102) are similar to Ethereum, with an additional component - number (3) below - that is burned to explicitly disincentivize overestimation of gas used - beyond the implicit disincentive of number (2). The total cost of a transaction is:\n",
    "\n",
    "(1) GasUsage * BaseFee (burned) +\n",
    "\n",
    "(2) GasLimit * GasPremium (storage provider’s reward) +\n",
    "\n",
    "(3) OverEstimationBurn * BaseFee (burned)\n",
    "\n",
    "The [basefee update mechanism](https://github.com/filecoin-project/lotus/blob/65ee059591c10c7d89565cc3d8dfcffbfb148593/chain/store/basefee.go#L16) in filecoin is the same as Ethereum's EIP-1559. In particular, the [current parameters](https://github.com/filecoin-project/lotus/blob/65ee059591c10c7d89565cc3d8dfcffbfb148593/build/params_shared_vals.go#L121) specify a gas limit of 10B gas units and a gas target of 5B gas units per block. The base fee update formula is\n",
    "\n",
    "$$\n",
    "b_{n+1} = b_n \\left( 1  + \\frac{1}{8} \\cdot \\frac{g_n - g^*}{g^*}\\right),\n",
    "$$\n",
    "\n",
    "where $g_n$ is the average amount of gas consumed by a block in tipset $n$ and $g^*$ is the sustainable gas target of 5B (possibly scaled by packing efficiency coefficient, in which case the target is 4B).\n",
    "\n",
    "This mechanism was initially [proposed by Vitalik](https://ethresear.ch/t/first-and-second-price-auctions-and-improved-transaction-fee-markets/2410) as an improvement to the previous Ethereum mechanism, a simple first-price auction where miners kept all the fees. It was implemented by Filecoin even before Ethereum itself! The mechanism has a few desirable practical properties:\n",
    "\n",
    "- Simple bidding strategies for users and inclusion strategies for miners are incentive compatible. (Thus making the protocol robust against economic attacks and manipulations.)\n",
    "\n",
    "- Reduced variance of fees and improved predictability.\n",
    "\n",
    "- Burning base fees further reduces incentives to manipulate for miners and native token inflation. (Alternatively, capturing them as protocol revenue can increase flexibility, protocol can decide distribution policy, over time to different participants.)\n",
    "\n",
    "- The update mechanism ensures that average block size is kept close to a sustainable target, which is typically smaller than maximum block burst limit.\n",
    "\n",
    "We will conduct an EDA with an eye at these properties. We will then propose further directions for more in depth analyses that can potentially give better measurements of these properties and generate ideas for new mechanisms that improve upon the current one."
   ]
  },
  {
   "cell_type": "markdown",
   "id": "839d1f66-de7e-42d7-a90b-7700426100f3",
   "metadata": {},
   "source": [
    "## EDA"
   ]
  },
  {
   "cell_type": "markdown",
   "id": "f58c5ee6-961c-4059-ad0a-6a895c9fc3df",
   "metadata": {},
   "source": [
    "**Data**\n",
    "\n",
    "Means and aggregate data are not granular enough to carry on a satisfactory analysis of the blockspace market. In order to gain a good understanding of how the fee mechanism works in practice and the dynamics induced by users interacting with it we need to get granular data.\n",
    "\n",
    "Fortunately, we can leverage open data and tooling built in the PL ecosystem. We leverage the Sentinel system and download [Lily data dumps](https://lilium.sh/data/dumps/) files from the fil-archive public s3 buckets. For this exercise we focus on one of the most interesting days identified in high level exploratory analysis (June 11th 2021). Looking at the [data model](https://lilium.sh/data/models/#derived_gas_outputs) we identify 3 main tables of interest:\n",
    "\n",
    "- block_headers: get unix timestamp\n",
    "- block_messages: get messages\n",
    "- derived_gas_outputs: message details\n",
    "\n",
    "Notes: \n",
    "- We won't be using the first table but it is useful if one wants to reconstruct what happened in UTC time by linking block height to the time it was added;\n",
    "- The epoch time in Filecoin is 30 seconds and there are five blocks in a tipset on expectation. A tipset is a set of blocks that each have the same height and parent tipset; the Filecoin blockchain is a [chain of tipsets](https://filecoin.io/blog/posts/tipsets-a-closer-look-at-filecoin-building-blocks). Each tipset is assigned a weight corresponding to the amount of storage the network is provided per the commitments encoded in the tipset’s blocks."
   ]
  },
  {
   "cell_type": "code",
   "execution_count": 6,
   "id": "c579b400-ec00-45cd-9f99-e529c44ffc92",
   "metadata": {},
   "outputs": [],
   "source": [
    "import pandas as pd\n",
    "import numpy as np\n",
    "\n",
    "from matplotlib import pyplot as plt"
   ]
  },
  {
   "cell_type": "code",
   "execution_count": 32,
   "id": "4b3cc814-05a8-4aed-a6ea-0cc5157ca36a",
   "metadata": {},
   "outputs": [
    {
     "data": {
      "text/plain": [
       "(3410301, 3)"
      ]
     },
     "execution_count": 32,
     "metadata": {},
     "output_type": "execute_result"
    }
   ],
   "source": [
    "bm_messages = \"height,block,message\"\n",
    "bm_cols = bm_messages.split(\",\")\n",
    "\n",
    "bm = pd.read_csv('block_messages-2021-06-11.csv', names=bm_cols)\n",
    "bm.shape"
   ]
  },
  {
   "cell_type": "code",
   "execution_count": 33,
   "id": "789412d6-7060-4b82-bba0-d391e03a50a7",
   "metadata": {},
   "outputs": [
    {
     "data": {
      "text/html": [
       "<div>\n",
       "<style scoped>\n",
       "    .dataframe tbody tr th:only-of-type {\n",
       "        vertical-align: middle;\n",
       "    }\n",
       "\n",
       "    .dataframe tbody tr th {\n",
       "        vertical-align: top;\n",
       "    }\n",
       "\n",
       "    .dataframe thead th {\n",
       "        text-align: right;\n",
       "    }\n",
       "</style>\n",
       "<table border=\"1\" class=\"dataframe\">\n",
       "  <thead>\n",
       "    <tr style=\"text-align: right;\">\n",
       "      <th></th>\n",
       "      <th>height</th>\n",
       "      <th>block</th>\n",
       "      <th>message</th>\n",
       "    </tr>\n",
       "  </thead>\n",
       "  <tbody>\n",
       "    <tr>\n",
       "      <th>count</th>\n",
       "      <td>2859.000000</td>\n",
       "      <td>2859.000000</td>\n",
       "      <td>2859.000000</td>\n",
       "    </tr>\n",
       "    <tr>\n",
       "      <th>mean</th>\n",
       "      <td>836880.735922</td>\n",
       "      <td>4.923400</td>\n",
       "      <td>517.805876</td>\n",
       "    </tr>\n",
       "    <tr>\n",
       "      <th>std</th>\n",
       "      <td>831.968699</td>\n",
       "      <td>2.179989</td>\n",
       "      <td>129.726740</td>\n",
       "    </tr>\n",
       "    <tr>\n",
       "      <th>min</th>\n",
       "      <td>835441.000000</td>\n",
       "      <td>1.000000</td>\n",
       "      <td>42.000000</td>\n",
       "    </tr>\n",
       "    <tr>\n",
       "      <th>25%</th>\n",
       "      <td>836160.500000</td>\n",
       "      <td>3.000000</td>\n",
       "      <td>441.000000</td>\n",
       "    </tr>\n",
       "    <tr>\n",
       "      <th>50%</th>\n",
       "      <td>836880.000000</td>\n",
       "      <td>5.000000</td>\n",
       "      <td>509.000000</td>\n",
       "    </tr>\n",
       "    <tr>\n",
       "      <th>75%</th>\n",
       "      <td>837601.500000</td>\n",
       "      <td>6.000000</td>\n",
       "      <td>591.000000</td>\n",
       "    </tr>\n",
       "    <tr>\n",
       "      <th>max</th>\n",
       "      <td>838320.000000</td>\n",
       "      <td>16.000000</td>\n",
       "      <td>1102.000000</td>\n",
       "    </tr>\n",
       "  </tbody>\n",
       "</table>\n",
       "</div>"
      ],
      "text/plain": [
       "              height        block      message\n",
       "count    2859.000000  2859.000000  2859.000000\n",
       "mean   836880.735922     4.923400   517.805876\n",
       "std       831.968699     2.179989   129.726740\n",
       "min    835441.000000     1.000000    42.000000\n",
       "25%    836160.500000     3.000000   441.000000\n",
       "50%    836880.000000     5.000000   509.000000\n",
       "75%    837601.500000     6.000000   591.000000\n",
       "max    838320.000000    16.000000  1102.000000"
      ]
     },
     "execution_count": 33,
     "metadata": {},
     "output_type": "execute_result"
    }
   ],
   "source": [
    "# blocks and messages per tipset\n",
    "bm.groupby('height').nunique().reset_index().describe()"
   ]
  },
  {
   "cell_type": "markdown",
   "id": "d024de5a-8a2b-49ee-8025-7bc36b9eb675",
   "metadata": {},
   "source": [
    "We notice that there are too many messages, this is because in the Filecoin blockchain, multiple blocks in a single tipset may [include the same message](https://spec.filecoin.io/systems/filecoin_vm/interpreter/). Messages are processed only the first time they are encountered in the tipset’s canonical order, subsequent duplicates do not result in any state mutation, produce a receipt, or pay gas to the block producer. We thus exclude them before merging with derived gas outputs."
   ]
  },
  {
   "cell_type": "code",
   "execution_count": 5,
   "id": "66f4d4da-9189-4b5a-a1d3-a40cc4e53dd4",
   "metadata": {},
   "outputs": [
    {
     "data": {
      "text/plain": [
       "(1480407, 3)"
      ]
     },
     "execution_count": 5,
     "metadata": {},
     "output_type": "execute_result"
    }
   ],
   "source": [
    "bmm = bm[~bm[['message']].duplicated()]\n",
    "bmm.shape"
   ]
  },
  {
   "cell_type": "code",
   "execution_count": 34,
   "id": "f4ec42e9-2426-49b5-a0df-5d3857d0fcb4",
   "metadata": {},
   "outputs": [
    {
     "data": {
      "text/plain": [
       "(1463902, 24)"
      ]
     },
     "execution_count": 34,
     "metadata": {},
     "output_type": "execute_result"
    }
   ],
   "source": [
    "dgo_header = \"height,cid,state_root,from,to,value,gas_fee_cap,gas_premium,gas_limit,\\\n",
    "size_bytes,nonce,method,actor_name,actor_family,exit_code,gas_used,parent_base_fee,\\\n",
    "base_fee_burn,over_estimation_burn,miner_penalty,miner_tip,refund,gas_refund,gas_burned\"\n",
    "dgo_cols = dgo_header.split(\",\")\n",
    "\n",
    "dgo = pd.read_csv('derived_gas_outputs-2021-06-11.csv', names=dgo_cols)\n",
    "dgo.shape"
   ]
  },
  {
   "cell_type": "code",
   "execution_count": 39,
   "id": "c8145ec1-dcc5-4f2b-bc96-b3347fea3ef9",
   "metadata": {},
   "outputs": [
    {
     "data": {
      "text/plain": [
       "(1480407, 26)"
      ]
     },
     "execution_count": 39,
     "metadata": {},
     "output_type": "execute_result"
    }
   ],
   "source": [
    "gf = bmm[['block','message']].merge(dgo, left_on='message', right_on='cid', how='left')\n",
    "gf.shape"
   ]
  },
  {
   "cell_type": "code",
   "execution_count": 73,
   "id": "3ceee4f8-6951-4171-91a5-ed012a12c465",
   "metadata": {},
   "outputs": [
    {
     "data": {
      "text/html": [
       "<div>\n",
       "<style scoped>\n",
       "    .dataframe tbody tr th:only-of-type {\n",
       "        vertical-align: middle;\n",
       "    }\n",
       "\n",
       "    .dataframe tbody tr th {\n",
       "        vertical-align: top;\n",
       "    }\n",
       "\n",
       "    .dataframe thead th {\n",
       "        text-align: right;\n",
       "    }\n",
       "</style>\n",
       "<table border=\"1\" class=\"dataframe\">\n",
       "  <thead>\n",
       "    <tr style=\"text-align: right;\">\n",
       "      <th></th>\n",
       "      <th>height</th>\n",
       "      <th>gas_used</th>\n",
       "      <th>block</th>\n",
       "      <th>parent_base_fee</th>\n",
       "      <th>avg_gas_per_block</th>\n",
       "    </tr>\n",
       "  </thead>\n",
       "  <tbody>\n",
       "    <tr>\n",
       "      <th>0</th>\n",
       "      <td>835441.0</td>\n",
       "      <td>1.645633e+10</td>\n",
       "      <td>4</td>\n",
       "      <td>1.384664e+09</td>\n",
       "      <td>4.114083e+09</td>\n",
       "    </tr>\n",
       "    <tr>\n",
       "      <th>1</th>\n",
       "      <td>835442.0</td>\n",
       "      <td>1.962443e+10</td>\n",
       "      <td>5</td>\n",
       "      <td>1.389373e+09</td>\n",
       "      <td>3.924886e+09</td>\n",
       "    </tr>\n",
       "    <tr>\n",
       "      <th>2</th>\n",
       "      <td>835443.0</td>\n",
       "      <td>1.774932e+10</td>\n",
       "      <td>5</td>\n",
       "      <td>1.383129e+09</td>\n",
       "      <td>3.549865e+09</td>\n",
       "    </tr>\n",
       "    <tr>\n",
       "      <th>3</th>\n",
       "      <td>835444.0</td>\n",
       "      <td>1.378103e+10</td>\n",
       "      <td>3</td>\n",
       "      <td>1.361956e+09</td>\n",
       "      <td>4.593678e+09</td>\n",
       "    </tr>\n",
       "    <tr>\n",
       "      <th>4</th>\n",
       "      <td>835445.0</td>\n",
       "      <td>1.564567e+10</td>\n",
       "      <td>5</td>\n",
       "      <td>1.384518e+09</td>\n",
       "      <td>3.129134e+09</td>\n",
       "    </tr>\n",
       "    <tr>\n",
       "      <th>5</th>\n",
       "      <td>835446.0</td>\n",
       "      <td>1.827184e+10</td>\n",
       "      <td>6</td>\n",
       "      <td>1.345610e+09</td>\n",
       "      <td>3.045307e+09</td>\n",
       "    </tr>\n",
       "    <tr>\n",
       "      <th>6</th>\n",
       "      <td>835447.0</td>\n",
       "      <td>1.204632e+10</td>\n",
       "      <td>2</td>\n",
       "      <td>1.305119e+09</td>\n",
       "      <td>6.023161e+09</td>\n",
       "    </tr>\n",
       "    <tr>\n",
       "      <th>7</th>\n",
       "      <td>835448.0</td>\n",
       "      <td>1.914485e+10</td>\n",
       "      <td>8</td>\n",
       "      <td>1.389064e+09</td>\n",
       "      <td>2.393106e+09</td>\n",
       "    </tr>\n",
       "    <tr>\n",
       "      <th>8</th>\n",
       "      <td>835449.0</td>\n",
       "      <td>7.866642e+09</td>\n",
       "      <td>1</td>\n",
       "      <td>1.317775e+09</td>\n",
       "      <td>7.866642e+09</td>\n",
       "    </tr>\n",
       "    <tr>\n",
       "      <th>9</th>\n",
       "      <td>835450.0</td>\n",
       "      <td>7.933401e+09</td>\n",
       "      <td>1</td>\n",
       "      <td>1.482228e+09</td>\n",
       "      <td>7.933401e+09</td>\n",
       "    </tr>\n",
       "    <tr>\n",
       "      <th>10</th>\n",
       "      <td>835451.0</td>\n",
       "      <td>1.822076e+10</td>\n",
       "      <td>4</td>\n",
       "      <td>1.665046e+09</td>\n",
       "      <td>4.555191e+09</td>\n",
       "    </tr>\n",
       "    <tr>\n",
       "      <th>11</th>\n",
       "      <td>835452.0</td>\n",
       "      <td>2.203740e+10</td>\n",
       "      <td>5</td>\n",
       "      <td>1.693167e+09</td>\n",
       "      <td>4.407480e+09</td>\n",
       "    </tr>\n",
       "    <tr>\n",
       "      <th>12</th>\n",
       "      <td>835453.0</td>\n",
       "      <td>2.023558e+10</td>\n",
       "      <td>8</td>\n",
       "      <td>1.710996e+09</td>\n",
       "      <td>2.529447e+09</td>\n",
       "    </tr>\n",
       "    <tr>\n",
       "      <th>13</th>\n",
       "      <td>835454.0</td>\n",
       "      <td>1.330026e+10</td>\n",
       "      <td>4</td>\n",
       "      <td>1.615104e+09</td>\n",
       "      <td>3.325066e+09</td>\n",
       "    </tr>\n",
       "    <tr>\n",
       "      <th>14</th>\n",
       "      <td>835455.0</td>\n",
       "      <td>1.509762e+10</td>\n",
       "      <td>7</td>\n",
       "      <td>1.580225e+09</td>\n",
       "      <td>2.156803e+09</td>\n",
       "    </tr>\n",
       "  </tbody>\n",
       "</table>\n",
       "</div>"
      ],
      "text/plain": [
       "      height      gas_used  block  parent_base_fee  avg_gas_per_block\n",
       "0   835441.0  1.645633e+10      4     1.384664e+09       4.114083e+09\n",
       "1   835442.0  1.962443e+10      5     1.389373e+09       3.924886e+09\n",
       "2   835443.0  1.774932e+10      5     1.383129e+09       3.549865e+09\n",
       "3   835444.0  1.378103e+10      3     1.361956e+09       4.593678e+09\n",
       "4   835445.0  1.564567e+10      5     1.384518e+09       3.129134e+09\n",
       "5   835446.0  1.827184e+10      6     1.345610e+09       3.045307e+09\n",
       "6   835447.0  1.204632e+10      2     1.305119e+09       6.023161e+09\n",
       "7   835448.0  1.914485e+10      8     1.389064e+09       2.393106e+09\n",
       "8   835449.0  7.866642e+09      1     1.317775e+09       7.866642e+09\n",
       "9   835450.0  7.933401e+09      1     1.482228e+09       7.933401e+09\n",
       "10  835451.0  1.822076e+10      4     1.665046e+09       4.555191e+09\n",
       "11  835452.0  2.203740e+10      5     1.693167e+09       4.407480e+09\n",
       "12  835453.0  2.023558e+10      8     1.710996e+09       2.529447e+09\n",
       "13  835454.0  1.330026e+10      4     1.615104e+09       3.325066e+09\n",
       "14  835455.0  1.509762e+10      7     1.580225e+09       2.156803e+09"
      ]
     },
     "execution_count": 73,
     "metadata": {},
     "output_type": "execute_result"
    }
   ],
   "source": [
    "gf1 = gf[['height','block','gas_used','parent_base_fee']].groupby(['height']).agg({'gas_used': np.sum, 'block': 'nunique', 'parent_base_fee': np.mean}).reset_index()\n",
    "gf1['avg_gas_per_block'] = gf1['gas_used'] / gf1['block']\n",
    "gf1.head(15)"
   ]
  },
  {
   "cell_type": "markdown",
   "id": "c7b2308f-c219-496a-8e18-8a6bfcfb254f",
   "metadata": {},
   "source": [
    "The table above shows the dynamic fee mechanism at work! We can see how when the avg gas per block is above the 4B threshold the protocol increases the base fee and when it is below it decreases it.\n",
    "\n",
    "The table below shows that the mechanism does a good job at keeping avg gas per block on track with the 4B gas units target (average deviation over the entire day is less than 1%). This can also be appreciated by the first chart below where we plot the rolling average. "
   ]
  },
  {
   "cell_type": "code",
   "execution_count": 53,
   "id": "3f930996-0540-4b76-a063-0a843d108270",
   "metadata": {},
   "outputs": [
    {
     "data": {
      "text/html": [
       "<div>\n",
       "<style scoped>\n",
       "    .dataframe tbody tr th:only-of-type {\n",
       "        vertical-align: middle;\n",
       "    }\n",
       "\n",
       "    .dataframe tbody tr th {\n",
       "        vertical-align: top;\n",
       "    }\n",
       "\n",
       "    .dataframe thead th {\n",
       "        text-align: right;\n",
       "    }\n",
       "</style>\n",
       "<table border=\"1\" class=\"dataframe\">\n",
       "  <thead>\n",
       "    <tr style=\"text-align: right;\">\n",
       "      <th></th>\n",
       "      <th>height</th>\n",
       "      <th>gas_used</th>\n",
       "      <th>block</th>\n",
       "      <th>parent_base_fee</th>\n",
       "      <th>avg_gas_per_block</th>\n",
       "    </tr>\n",
       "  </thead>\n",
       "  <tbody>\n",
       "    <tr>\n",
       "      <th>count</th>\n",
       "      <td>2858.000000</td>\n",
       "      <td>2.858000e+03</td>\n",
       "      <td>2858.000000</td>\n",
       "      <td>2.858000e+03</td>\n",
       "      <td>2.858000e+03</td>\n",
       "    </tr>\n",
       "    <tr>\n",
       "      <th>mean</th>\n",
       "      <td>836880.232330</td>\n",
       "      <td>1.706467e+10</td>\n",
       "      <td>4.822603</td>\n",
       "      <td>1.328703e+09</td>\n",
       "      <td>4.043909e+09</td>\n",
       "    </tr>\n",
       "    <tr>\n",
       "      <th>std</th>\n",
       "      <td>831.678352</td>\n",
       "      <td>4.746997e+09</td>\n",
       "      <td>2.078362</td>\n",
       "      <td>8.240803e+08</td>\n",
       "      <td>1.462103e+09</td>\n",
       "    </tr>\n",
       "    <tr>\n",
       "      <th>min</th>\n",
       "      <td>835441.000000</td>\n",
       "      <td>2.009423e+09</td>\n",
       "      <td>1.000000</td>\n",
       "      <td>6.414598e+08</td>\n",
       "      <td>1.004711e+09</td>\n",
       "    </tr>\n",
       "    <tr>\n",
       "      <th>25%</th>\n",
       "      <td>836160.250000</td>\n",
       "      <td>1.394034e+10</td>\n",
       "      <td>3.000000</td>\n",
       "      <td>9.048156e+08</td>\n",
       "      <td>2.943712e+09</td>\n",
       "    </tr>\n",
       "    <tr>\n",
       "      <th>50%</th>\n",
       "      <td>836879.500000</td>\n",
       "      <td>1.654535e+10</td>\n",
       "      <td>5.000000</td>\n",
       "      <td>1.036600e+09</td>\n",
       "      <td>3.758718e+09</td>\n",
       "    </tr>\n",
       "    <tr>\n",
       "      <th>75%</th>\n",
       "      <td>837600.750000</td>\n",
       "      <td>1.986468e+10</td>\n",
       "      <td>6.000000</td>\n",
       "      <td>1.336636e+09</td>\n",
       "      <td>4.878757e+09</td>\n",
       "    </tr>\n",
       "    <tr>\n",
       "      <th>max</th>\n",
       "      <td>838319.000000</td>\n",
       "      <td>3.910842e+10</td>\n",
       "      <td>14.000000</td>\n",
       "      <td>6.273926e+09</td>\n",
       "      <td>8.426587e+09</td>\n",
       "    </tr>\n",
       "  </tbody>\n",
       "</table>\n",
       "</div>"
      ],
      "text/plain": [
       "              height      gas_used        block  parent_base_fee  \\\n",
       "count    2858.000000  2.858000e+03  2858.000000     2.858000e+03   \n",
       "mean   836880.232330  1.706467e+10     4.822603     1.328703e+09   \n",
       "std       831.678352  4.746997e+09     2.078362     8.240803e+08   \n",
       "min    835441.000000  2.009423e+09     1.000000     6.414598e+08   \n",
       "25%    836160.250000  1.394034e+10     3.000000     9.048156e+08   \n",
       "50%    836879.500000  1.654535e+10     5.000000     1.036600e+09   \n",
       "75%    837600.750000  1.986468e+10     6.000000     1.336636e+09   \n",
       "max    838319.000000  3.910842e+10    14.000000     6.273926e+09   \n",
       "\n",
       "       avg_gas_per_block  \n",
       "count       2.858000e+03  \n",
       "mean        4.043909e+09  \n",
       "std         1.462103e+09  \n",
       "min         1.004711e+09  \n",
       "25%         2.943712e+09  \n",
       "50%         3.758718e+09  \n",
       "75%         4.878757e+09  \n",
       "max         8.426587e+09  "
      ]
     },
     "execution_count": 53,
     "metadata": {},
     "output_type": "execute_result"
    }
   ],
   "source": [
    "gf1.describe()"
   ]
  },
  {
   "cell_type": "code",
   "execution_count": 111,
   "id": "fb72d5ce-a7b9-4139-b4e0-5d970555c445",
   "metadata": {},
   "outputs": [
    {
     "data": {
      "image/png": "[encoded data removed]",
      "text/plain": [
       "<Figure size 432x288 with 1 Axes>"
      ]
     },
     "metadata": {
      "needs_background": "light"
     },
     "output_type": "display_data"
    }
   ],
   "source": [
    "gf1['avg_gas_per_block_rolling'] = gf1['avg_gas_per_block'].rolling(60).mean()\n",
    "gf1.plot('height',['avg_gas_per_block','avg_gas_per_block_rolling'])\n",
    "plt.show()"
   ]
  },
  {
   "cell_type": "code",
   "execution_count": 57,
   "id": "7dbbf971-38b0-4285-a2c7-73131e86e745",
   "metadata": {},
   "outputs": [
    {
     "data": {
      "image/png": "[encoded data removed]",
      "text/plain": [
       "<Figure size 432x288 with 1 Axes>"
      ]
     },
     "metadata": {
      "needs_background": "light"
     },
     "output_type": "display_data"
    }
   ],
   "source": [
    "gf1.plot('height',['parent_base_fee'])\n",
    "plt.show()"
   ]
  },
  {
   "cell_type": "code",
   "execution_count": 112,
   "id": "8903681e-cf87-4b00-9794-2f90e96786df",
   "metadata": {},
   "outputs": [
    {
     "data": {
      "text/plain": [
       "-0.034"
      ]
     },
     "execution_count": 112,
     "metadata": {},
     "output_type": "execute_result"
    }
   ],
   "source": [
    "gf1['parent_base_fee'].corr(gf1['avg_gas_per_block']).round(3)"
   ]
  },
  {
   "cell_type": "code",
   "execution_count": 113,
   "id": "d3e3800b-3fc2-4e95-b9ac-61502a5cdd4a",
   "metadata": {},
   "outputs": [
    {
     "data": {
      "text/plain": [
       "0.293"
      ]
     },
     "execution_count": 113,
     "metadata": {},
     "output_type": "execute_result"
    }
   ],
   "source": [
    "gf1['parent_base_fee'].corr(gf1['avg_gas_per_block_rolling']).round(3)"
   ]
  },
  {
   "cell_type": "markdown",
   "id": "2021c646-32b1-4fce-9fa4-c6fa432e30d3",
   "metadata": {},
   "source": [
    "The final insight we focus on is looking more in detail at how the basefee relates to congestion. We can see that there is a negative correlation of -3.4% between base fee and avg gas per block, this is because higher fee locally suppresses demand. At the same time we see that there is a strong positive correlation of 29.3% between base fee and the rolling average, showing that basefee is a signal of network congestion.\n",
    "\n",
    "## Further directions\n",
    "\n",
    "There are many more exciting hypothesis tests and improvements that can be worked out from this granular data. These crucially depend on the priority of problems faced by the Filecoin blockchain as the network scales. Here are a few directions that seem relevant:\n",
    "\n",
    "- Structural demand estimation, including potential demand and the mempool, elasticities, load on different types of resources.\n",
    "\n",
    "- Parameter updates to current base fee update rule, including dynamic updates, smoothing to reduce volatility and spikiness that is currently observed.\n",
    "\n",
    "- Heterogeneous resource pricing to improve efficiency and UX, including pricing different VM resources (e.g. storage and compute) or differentiated pricing for specific types of messages and transactions.\n",
    "\n",
    "More broadly, there are other related questions that seem to be relevant and potentially very impactful:\n",
    "\n",
    "- New mechanisms that are tailored to the specificity and scale of the Filecoin blockchain as new components are built (e.g. Hierarchical Consensus or HyperDrive). Perhaps a new framework so that the mechanism can be easily upgraded as the chain itself evolves.\n",
    "\n",
    "- Macroeconomic policy changes, including tweaking the current \"burn all base fees\", updating miner rewards/punishment schemes. These need to be carefully designed and tested with network revenue as well as inflation in mind."
   ]
  }
 ],
 "metadata": {
  "author": "Davide Crapis",
  "kernelspec": {
   "display_name": "Python 3 (ipykernel)",
   "language": "python",
   "name": "python3"
  },
  "language_info": {
   "codemirror_mode": {
    "name": "ipython",
    "version": 3
   },
   "file_extension": ".py",
   "mimetype": "text/x-python",
   "name": "python",
   "nbconvert_exporter": "python",
   "pygments_lexer": "ipython3",
   "version": "3.9.11"
  },
  "latex_metadata": {
   "author": "Davide Crapis"
  }
 },
 "nbformat": 4,
 "nbformat_minor": 5
}
